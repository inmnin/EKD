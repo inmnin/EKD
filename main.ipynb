{
 "cells": [
  {
   "cell_type": "code",
   "execution_count": 2,
   "id": "0e188cf0-5cf0-4193-b888-003bf0604b9d",
   "metadata": {
    "tags": []
   },
   "outputs": [
    {
     "name": "stdout",
     "output_type": "stream",
     "text": [
      "shopping\n"
     ]
    },
    {
     "name": "stderr",
     "output_type": "stream",
     "text": [
      "Loading Dataset: 56492it [00:00, 718259.95it/s]\n",
      "Loading Dataset: 6278it [00:00, 379295.63it/s]\n"
     ]
    },
    {
     "name": "stdout",
     "output_type": "stream",
     "text": [
      "training start!!!\n"
     ]
    },
    {
     "name": "stderr",
     "output_type": "stream",
     "text": [
      "Epoch 1/15: 100%|██████████| 1766/1766 [04:20<00:00,  6.79it/s, training_loss=1.265]\n"
     ]
    },
    {
     "name": "stdout",
     "output_type": "stream",
     "text": [
      "Validation Accuracy: 80.726%\n",
      "Average training loss: 3.292\n"
     ]
    },
    {
     "name": "stderr",
     "output_type": "stream",
     "text": [
      "Epoch 2/15: 100%|██████████| 1766/1766 [04:22<00:00,  6.72it/s, training_loss=1.689]\n"
     ]
    },
    {
     "name": "stdout",
     "output_type": "stream",
     "text": [
      "Validation Accuracy: 84.087%\n",
      "Average training loss: 1.328\n"
     ]
    },
    {
     "name": "stderr",
     "output_type": "stream",
     "text": [
      "Epoch 3/15: 100%|██████████| 1766/1766 [04:20<00:00,  6.79it/s, training_loss=1.619]\n"
     ]
    },
    {
     "name": "stdout",
     "output_type": "stream",
     "text": [
      "Validation Accuracy: 84.995%\n",
      "Average training loss: 1.137\n"
     ]
    },
    {
     "name": "stderr",
     "output_type": "stream",
     "text": [
      "Epoch 4/15: 100%|██████████| 1766/1766 [04:22<00:00,  6.73it/s, training_loss=1.709]\n"
     ]
    },
    {
     "name": "stdout",
     "output_type": "stream",
     "text": [
      "Validation Accuracy: 85.553%\n",
      "Average training loss: 1.043\n"
     ]
    },
    {
     "name": "stderr",
     "output_type": "stream",
     "text": [
      "Epoch 5/15: 100%|██████████| 1766/1766 [04:21<00:00,  6.75it/s, training_loss=0.676]\n"
     ]
    },
    {
     "name": "stdout",
     "output_type": "stream",
     "text": [
      "Validation Accuracy: 85.744%\n",
      "Average training loss: 0.991\n"
     ]
    },
    {
     "name": "stderr",
     "output_type": "stream",
     "text": [
      "Epoch 6/15: 100%|██████████| 1766/1766 [04:23<00:00,  6.71it/s, training_loss=0.527]\n"
     ]
    },
    {
     "name": "stdout",
     "output_type": "stream",
     "text": [
      "Validation Accuracy: 85.744%\n",
      "Average training loss: 0.944\n"
     ]
    },
    {
     "name": "stderr",
     "output_type": "stream",
     "text": [
      "Epoch 7/15: 100%|██████████| 1766/1766 [04:21<00:00,  6.75it/s, training_loss=0.680]\n"
     ]
    },
    {
     "name": "stdout",
     "output_type": "stream",
     "text": [
      "Validation Accuracy: 85.091%\n",
      "Average training loss: 0.913\n"
     ]
    },
    {
     "name": "stderr",
     "output_type": "stream",
     "text": [
      "Epoch 8/15: 100%|██████████| 1766/1766 [04:22<00:00,  6.72it/s, training_loss=1.029]\n"
     ]
    },
    {
     "name": "stdout",
     "output_type": "stream",
     "text": [
      "Validation Accuracy: 85.855%\n",
      "Average training loss: 0.885\n"
     ]
    },
    {
     "name": "stderr",
     "output_type": "stream",
     "text": [
      "Epoch 9/15: 100%|██████████| 1766/1766 [04:23<00:00,  6.70it/s, training_loss=2.010]\n"
     ]
    },
    {
     "name": "stdout",
     "output_type": "stream",
     "text": [
      "Validation Accuracy: 85.537%\n",
      "Average training loss: 0.860\n"
     ]
    },
    {
     "name": "stderr",
     "output_type": "stream",
     "text": [
      "Epoch 10/15: 100%|██████████| 1766/1766 [04:25<00:00,  6.66it/s, training_loss=0.866]\n"
     ]
    },
    {
     "name": "stdout",
     "output_type": "stream",
     "text": [
      "Validation Accuracy: 85.808%\n",
      "Average training loss: 0.834\n"
     ]
    },
    {
     "name": "stderr",
     "output_type": "stream",
     "text": [
      "Epoch 11/15: 100%|██████████| 1766/1766 [04:27<00:00,  6.61it/s, training_loss=0.535]\n"
     ]
    },
    {
     "name": "stdout",
     "output_type": "stream",
     "text": [
      "Validation Accuracy: 85.027%\n",
      "Average training loss: 0.814\n"
     ]
    },
    {
     "name": "stderr",
     "output_type": "stream",
     "text": [
      "Epoch 12/15: 100%|██████████| 1766/1766 [04:20<00:00,  6.77it/s, training_loss=0.734]\n"
     ]
    },
    {
     "name": "stdout",
     "output_type": "stream",
     "text": [
      "Validation Accuracy: 85.855%\n",
      "Average training loss: 0.795\n"
     ]
    },
    {
     "name": "stderr",
     "output_type": "stream",
     "text": [
      "Epoch 13/15: 100%|██████████| 1766/1766 [04:23<00:00,  6.69it/s, training_loss=0.391]\n"
     ]
    },
    {
     "name": "stdout",
     "output_type": "stream",
     "text": [
      "Validation Accuracy: 85.792%\n",
      "Average training loss: 0.774\n"
     ]
    },
    {
     "name": "stderr",
     "output_type": "stream",
     "text": [
      "Epoch 14/15: 100%|██████████| 1766/1766 [04:22<00:00,  6.73it/s, training_loss=0.867]\n"
     ]
    },
    {
     "name": "stdout",
     "output_type": "stream",
     "text": [
      "Validation Accuracy: 84.772%\n",
      "Average training loss: 0.755\n"
     ]
    },
    {
     "name": "stderr",
     "output_type": "stream",
     "text": [
      "Epoch 15/15: 100%|██████████| 1766/1766 [04:20<00:00,  6.79it/s, training_loss=0.519]\n"
     ]
    },
    {
     "name": "stdout",
     "output_type": "stream",
     "text": [
      "Validation Accuracy: 86.094%\n",
      "Average training loss: 0.743\n",
      "Training complete!\n",
      "shopping\n"
     ]
    },
    {
     "name": "stderr",
     "output_type": "stream",
     "text": [
      "Loading Dataset: 56492it [00:00, 737586.88it/s]\n",
      "Loading Dataset: 6278it [00:00, 533854.52it/s]\n"
     ]
    },
    {
     "name": "stdout",
     "output_type": "stream",
     "text": [
      "training start!!!\n"
     ]
    },
    {
     "name": "stderr",
     "output_type": "stream",
     "text": [
      "Epoch 1/15: 100%|██████████| 1766/1766 [04:22<00:00,  6.72it/s, training_loss=3.002]\n"
     ]
    },
    {
     "name": "stdout",
     "output_type": "stream",
     "text": [
      "Validation Accuracy: 50.542%\n",
      "Average training loss: 3.126\n"
     ]
    },
    {
     "name": "stderr",
     "output_type": "stream",
     "text": [
      "Epoch 2/15: 100%|██████████| 1766/1766 [04:19<00:00,  6.80it/s, training_loss=1.580]\n"
     ]
    },
    {
     "name": "stdout",
     "output_type": "stream",
     "text": [
      "Validation Accuracy: 84.294%\n",
      "Average training loss: 1.385\n"
     ]
    },
    {
     "name": "stderr",
     "output_type": "stream",
     "text": [
      "Epoch 3/15: 100%|██████████| 1766/1766 [04:20<00:00,  6.79it/s, training_loss=1.410]\n"
     ]
    },
    {
     "name": "stdout",
     "output_type": "stream",
     "text": [
      "Validation Accuracy: 84.932%\n",
      "Average training loss: 1.068\n"
     ]
    },
    {
     "name": "stderr",
     "output_type": "stream",
     "text": [
      "Epoch 4/15: 100%|██████████| 1766/1766 [04:22<00:00,  6.73it/s, training_loss=1.567]\n"
     ]
    },
    {
     "name": "stdout",
     "output_type": "stream",
     "text": [
      "Validation Accuracy: 85.186%\n",
      "Average training loss: 0.976\n"
     ]
    },
    {
     "name": "stderr",
     "output_type": "stream",
     "text": [
      "Epoch 5/15: 100%|██████████| 1766/1766 [04:20<00:00,  6.78it/s, training_loss=0.589]\n"
     ]
    },
    {
     "name": "stdout",
     "output_type": "stream",
     "text": [
      "Validation Accuracy: 85.728%\n",
      "Average training loss: 0.924\n"
     ]
    },
    {
     "name": "stderr",
     "output_type": "stream",
     "text": [
      "Epoch 6/15: 100%|██████████| 1766/1766 [04:20<00:00,  6.78it/s, training_loss=0.525]\n"
     ]
    },
    {
     "name": "stdout",
     "output_type": "stream",
     "text": [
      "Validation Accuracy: 85.521%\n",
      "Average training loss: 0.880\n"
     ]
    },
    {
     "name": "stderr",
     "output_type": "stream",
     "text": [
      "Epoch 7/15: 100%|██████████| 1766/1766 [04:21<00:00,  6.76it/s, training_loss=0.602]\n"
     ]
    },
    {
     "name": "stdout",
     "output_type": "stream",
     "text": [
      "Validation Accuracy: 85.139%\n",
      "Average training loss: 0.850\n"
     ]
    },
    {
     "name": "stderr",
     "output_type": "stream",
     "text": [
      "Epoch 8/15: 100%|██████████| 1766/1766 [04:19<00:00,  6.81it/s, training_loss=0.939]\n"
     ]
    },
    {
     "name": "stdout",
     "output_type": "stream",
     "text": [
      "Validation Accuracy: 85.808%\n",
      "Average training loss: 0.824\n"
     ]
    },
    {
     "name": "stderr",
     "output_type": "stream",
     "text": [
      "Epoch 9/15: 100%|██████████| 1766/1766 [04:16<00:00,  6.88it/s, training_loss=1.868]\n"
     ]
    },
    {
     "name": "stdout",
     "output_type": "stream",
     "text": [
      "Validation Accuracy: 85.107%\n",
      "Average training loss: 0.800\n"
     ]
    },
    {
     "name": "stderr",
     "output_type": "stream",
     "text": [
      "Epoch 10/15: 100%|██████████| 1766/1766 [04:23<00:00,  6.71it/s, training_loss=0.819]\n"
     ]
    },
    {
     "name": "stdout",
     "output_type": "stream",
     "text": [
      "Validation Accuracy: 85.839%\n",
      "Average training loss: 0.778\n"
     ]
    },
    {
     "name": "stderr",
     "output_type": "stream",
     "text": [
      "Epoch 11/15: 100%|██████████| 1766/1766 [04:21<00:00,  6.76it/s, training_loss=0.517]\n"
     ]
    },
    {
     "name": "stdout",
     "output_type": "stream",
     "text": [
      "Validation Accuracy: 85.011%\n",
      "Average training loss: 0.760\n"
     ]
    },
    {
     "name": "stderr",
     "output_type": "stream",
     "text": [
      "Epoch 12/15: 100%|██████████| 1766/1766 [04:23<00:00,  6.70it/s, training_loss=0.666]\n"
     ]
    },
    {
     "name": "stdout",
     "output_type": "stream",
     "text": [
      "Validation Accuracy: 85.839%\n",
      "Average training loss: 0.741\n"
     ]
    },
    {
     "name": "stderr",
     "output_type": "stream",
     "text": [
      "Epoch 13/15: 100%|██████████| 1766/1766 [04:20<00:00,  6.79it/s, training_loss=0.394]\n"
     ]
    },
    {
     "name": "stdout",
     "output_type": "stream",
     "text": [
      "Validation Accuracy: 85.680%\n",
      "Average training loss: 0.722\n"
     ]
    },
    {
     "name": "stderr",
     "output_type": "stream",
     "text": [
      "Epoch 14/15: 100%|██████████| 1766/1766 [04:16<00:00,  6.90it/s, training_loss=0.797]\n"
     ]
    },
    {
     "name": "stdout",
     "output_type": "stream",
     "text": [
      "Validation Accuracy: 84.454%\n",
      "Average training loss: 0.706\n"
     ]
    },
    {
     "name": "stderr",
     "output_type": "stream",
     "text": [
      "Epoch 15/15: 100%|██████████| 1766/1766 [04:19<00:00,  6.81it/s, training_loss=0.477]\n"
     ]
    },
    {
     "name": "stdout",
     "output_type": "stream",
     "text": [
      "Validation Accuracy: 85.903%\n",
      "Average training loss: 0.696\n",
      "Training complete!\n",
      "shopping\n"
     ]
    },
    {
     "name": "stderr",
     "output_type": "stream",
     "text": [
      "Loading Dataset: 56492it [00:00, 1363780.69it/s]\n",
      "Loading Dataset: 6278it [00:00, 900942.30it/s]\n"
     ]
    },
    {
     "name": "stdout",
     "output_type": "stream",
     "text": [
      "training start!!!\n"
     ]
    },
    {
     "name": "stderr",
     "output_type": "stream",
     "text": [
      "Epoch 1/15: 100%|██████████| 1766/1766 [04:20<00:00,  6.78it/s, training_loss=2.607]\n"
     ]
    },
    {
     "name": "stdout",
     "output_type": "stream",
     "text": [
      "Validation Accuracy: 50.542%\n",
      "Average training loss: 2.782\n"
     ]
    },
    {
     "name": "stderr",
     "output_type": "stream",
     "text": [
      "Epoch 2/15: 100%|██████████| 1766/1766 [04:20<00:00,  6.78it/s, training_loss=1.484]\n"
     ]
    },
    {
     "name": "stdout",
     "output_type": "stream",
     "text": [
      "Validation Accuracy: 83.578%\n",
      "Average training loss: 1.621\n"
     ]
    },
    {
     "name": "stderr",
     "output_type": "stream",
     "text": [
      "Epoch 3/15: 100%|██████████| 1766/1766 [04:19<00:00,  6.81it/s, training_loss=1.198]\n"
     ]
    },
    {
     "name": "stdout",
     "output_type": "stream",
     "text": [
      "Validation Accuracy: 84.900%\n",
      "Average training loss: 1.000\n"
     ]
    },
    {
     "name": "stderr",
     "output_type": "stream",
     "text": [
      "Epoch 4/15: 100%|██████████| 1766/1766 [04:21<00:00,  6.74it/s, training_loss=1.462]\n"
     ]
    },
    {
     "name": "stdout",
     "output_type": "stream",
     "text": [
      "Validation Accuracy: 85.091%\n",
      "Average training loss: 0.906\n"
     ]
    },
    {
     "name": "stderr",
     "output_type": "stream",
     "text": [
      "Epoch 5/15: 100%|██████████| 1766/1766 [04:16<00:00,  6.88it/s, training_loss=0.534]\n"
     ]
    },
    {
     "name": "stdout",
     "output_type": "stream",
     "text": [
      "Validation Accuracy: 85.553%\n",
      "Average training loss: 0.854\n"
     ]
    },
    {
     "name": "stderr",
     "output_type": "stream",
     "text": [
      "Epoch 6/15: 100%|██████████| 1766/1766 [04:22<00:00,  6.73it/s, training_loss=0.546]\n"
     ]
    },
    {
     "name": "stdout",
     "output_type": "stream",
     "text": [
      "Validation Accuracy: 85.457%\n",
      "Average training loss: 0.814\n"
     ]
    },
    {
     "name": "stderr",
     "output_type": "stream",
     "text": [
      "Epoch 7/15: 100%|██████████| 1766/1766 [04:21<00:00,  6.76it/s, training_loss=0.552]\n"
     ]
    },
    {
     "name": "stdout",
     "output_type": "stream",
     "text": [
      "Validation Accuracy: 85.378%\n",
      "Average training loss: 0.787\n"
     ]
    },
    {
     "name": "stderr",
     "output_type": "stream",
     "text": [
      "Epoch 8/15: 100%|██████████| 1766/1766 [04:20<00:00,  6.78it/s, training_loss=0.824]\n"
     ]
    },
    {
     "name": "stdout",
     "output_type": "stream",
     "text": [
      "Validation Accuracy: 85.616%\n",
      "Average training loss: 0.763\n"
     ]
    },
    {
     "name": "stderr",
     "output_type": "stream",
     "text": [
      "Epoch 9/15: 100%|██████████| 1766/1766 [04:19<00:00,  6.81it/s, training_loss=1.658]\n"
     ]
    },
    {
     "name": "stdout",
     "output_type": "stream",
     "text": [
      "Validation Accuracy: 85.393%\n",
      "Average training loss: 0.740\n"
     ]
    },
    {
     "name": "stderr",
     "output_type": "stream",
     "text": [
      "Epoch 10/15: 100%|██████████| 1766/1766 [04:23<00:00,  6.71it/s, training_loss=0.738]\n"
     ]
    },
    {
     "name": "stdout",
     "output_type": "stream",
     "text": [
      "Validation Accuracy: 85.951%\n",
      "Average training loss: 0.720\n"
     ]
    },
    {
     "name": "stderr",
     "output_type": "stream",
     "text": [
      "Epoch 11/15: 100%|██████████| 1766/1766 [04:24<00:00,  6.68it/s, training_loss=0.481]\n"
     ]
    },
    {
     "name": "stdout",
     "output_type": "stream",
     "text": [
      "Validation Accuracy: 85.441%\n",
      "Average training loss: 0.703\n"
     ]
    },
    {
     "name": "stderr",
     "output_type": "stream",
     "text": [
      "Epoch 12/15: 100%|██████████| 1766/1766 [04:23<00:00,  6.69it/s, training_loss=0.617]\n"
     ]
    },
    {
     "name": "stdout",
     "output_type": "stream",
     "text": [
      "Validation Accuracy: 85.808%\n",
      "Average training loss: 0.686\n"
     ]
    },
    {
     "name": "stderr",
     "output_type": "stream",
     "text": [
      "Epoch 13/15: 100%|██████████| 1766/1766 [04:22<00:00,  6.73it/s, training_loss=0.384]\n"
     ]
    },
    {
     "name": "stdout",
     "output_type": "stream",
     "text": [
      "Validation Accuracy: 85.935%\n",
      "Average training loss: 0.670\n"
     ]
    },
    {
     "name": "stderr",
     "output_type": "stream",
     "text": [
      "Epoch 14/15: 100%|██████████| 1766/1766 [04:24<00:00,  6.68it/s, training_loss=0.728]\n"
     ]
    },
    {
     "name": "stdout",
     "output_type": "stream",
     "text": [
      "Validation Accuracy: 84.135%\n",
      "Average training loss: 0.654\n"
     ]
    },
    {
     "name": "stderr",
     "output_type": "stream",
     "text": [
      "Epoch 15/15: 100%|██████████| 1766/1766 [04:23<00:00,  6.70it/s, training_loss=0.486]\n"
     ]
    },
    {
     "name": "stdout",
     "output_type": "stream",
     "text": [
      "Validation Accuracy: 86.110%\n",
      "Average training loss: 0.643\n",
      "Training complete!\n",
      "shopping\n"
     ]
    },
    {
     "name": "stderr",
     "output_type": "stream",
     "text": [
      "Loading Dataset: 56492it [00:00, 1361609.84it/s]\n",
      "Loading Dataset: 6278it [00:00, 870992.34it/s]\n"
     ]
    },
    {
     "name": "stdout",
     "output_type": "stream",
     "text": [
      "training start!!!\n"
     ]
    },
    {
     "name": "stderr",
     "output_type": "stream",
     "text": [
      "Epoch 1/15: 100%|██████████| 1766/1766 [04:22<00:00,  6.74it/s, training_loss=2.211]\n"
     ]
    },
    {
     "name": "stdout",
     "output_type": "stream",
     "text": [
      "Validation Accuracy: 50.542%\n",
      "Average training loss: 2.439\n"
     ]
    },
    {
     "name": "stderr",
     "output_type": "stream",
     "text": [
      "Epoch 2/15: 100%|██████████| 1766/1766 [04:26<00:00,  6.64it/s, training_loss=1.526]\n"
     ]
    },
    {
     "name": "stdout",
     "output_type": "stream",
     "text": [
      "Validation Accuracy: 82.224%\n",
      "Average training loss: 1.773\n"
     ]
    },
    {
     "name": "stderr",
     "output_type": "stream",
     "text": [
      "Epoch 3/15: 100%|██████████| 1766/1766 [04:23<00:00,  6.70it/s, training_loss=1.110]\n"
     ]
    },
    {
     "name": "stdout",
     "output_type": "stream",
     "text": [
      "Validation Accuracy: 85.123%\n",
      "Average training loss: 0.932\n"
     ]
    },
    {
     "name": "stderr",
     "output_type": "stream",
     "text": [
      "Epoch 4/15: 100%|██████████| 1766/1766 [04:24<00:00,  6.67it/s, training_loss=1.325]\n"
     ]
    },
    {
     "name": "stdout",
     "output_type": "stream",
     "text": [
      "Validation Accuracy: 84.724%\n",
      "Average training loss: 0.834\n"
     ]
    },
    {
     "name": "stderr",
     "output_type": "stream",
     "text": [
      "Epoch 5/15: 100%|██████████| 1766/1766 [04:20<00:00,  6.79it/s, training_loss=0.495]\n"
     ]
    },
    {
     "name": "stdout",
     "output_type": "stream",
     "text": [
      "Validation Accuracy: 85.632%\n",
      "Average training loss: 0.782\n"
     ]
    },
    {
     "name": "stderr",
     "output_type": "stream",
     "text": [
      "Epoch 6/15: 100%|██████████| 1766/1766 [04:25<00:00,  6.66it/s, training_loss=0.514]\n"
     ]
    },
    {
     "name": "stdout",
     "output_type": "stream",
     "text": [
      "Validation Accuracy: 85.393%\n",
      "Average training loss: 0.746\n"
     ]
    },
    {
     "name": "stderr",
     "output_type": "stream",
     "text": [
      "Epoch 7/15: 100%|██████████| 1766/1766 [04:19<00:00,  6.81it/s, training_loss=0.523]\n"
     ]
    },
    {
     "name": "stdout",
     "output_type": "stream",
     "text": [
      "Validation Accuracy: 85.170%\n",
      "Average training loss: 0.723\n"
     ]
    },
    {
     "name": "stderr",
     "output_type": "stream",
     "text": [
      "Epoch 8/15: 100%|██████████| 1766/1766 [04:22<00:00,  6.74it/s, training_loss=0.757]\n"
     ]
    },
    {
     "name": "stdout",
     "output_type": "stream",
     "text": [
      "Validation Accuracy: 85.409%\n",
      "Average training loss: 0.702\n"
     ]
    },
    {
     "name": "stderr",
     "output_type": "stream",
     "text": [
      "Epoch 9/15: 100%|██████████| 1766/1766 [04:21<00:00,  6.76it/s, training_loss=1.558]\n"
     ]
    },
    {
     "name": "stdout",
     "output_type": "stream",
     "text": [
      "Validation Accuracy: 85.362%\n",
      "Average training loss: 0.682\n"
     ]
    },
    {
     "name": "stderr",
     "output_type": "stream",
     "text": [
      "Epoch 10/15: 100%|██████████| 1766/1766 [04:23<00:00,  6.69it/s, training_loss=0.629]\n"
     ]
    },
    {
     "name": "stdout",
     "output_type": "stream",
     "text": [
      "Validation Accuracy: 85.839%\n",
      "Average training loss: 0.664\n"
     ]
    },
    {
     "name": "stderr",
     "output_type": "stream",
     "text": [
      "Epoch 11/15: 100%|██████████| 1766/1766 [04:21<00:00,  6.76it/s, training_loss=0.452]\n"
     ]
    },
    {
     "name": "stdout",
     "output_type": "stream",
     "text": [
      "Validation Accuracy: 85.346%\n",
      "Average training loss: 0.651\n"
     ]
    },
    {
     "name": "stderr",
     "output_type": "stream",
     "text": [
      "Epoch 12/15: 100%|██████████| 1766/1766 [04:23<00:00,  6.69it/s, training_loss=0.549]\n"
     ]
    },
    {
     "name": "stdout",
     "output_type": "stream",
     "text": [
      "Validation Accuracy: 85.808%\n",
      "Average training loss: 0.635\n"
     ]
    },
    {
     "name": "stderr",
     "output_type": "stream",
     "text": [
      "Epoch 13/15: 100%|██████████| 1766/1766 [04:22<00:00,  6.72it/s, training_loss=0.428]\n"
     ]
    },
    {
     "name": "stdout",
     "output_type": "stream",
     "text": [
      "Validation Accuracy: 85.808%\n",
      "Average training loss: 0.621\n"
     ]
    },
    {
     "name": "stderr",
     "output_type": "stream",
     "text": [
      "Epoch 14/15: 100%|██████████| 1766/1766 [04:24<00:00,  6.68it/s, training_loss=0.597]\n"
     ]
    },
    {
     "name": "stdout",
     "output_type": "stream",
     "text": [
      "Validation Accuracy: 84.470%\n",
      "Average training loss: 0.608\n"
     ]
    },
    {
     "name": "stderr",
     "output_type": "stream",
     "text": [
      "Epoch 15/15: 100%|██████████| 1766/1766 [04:24<00:00,  6.67it/s, training_loss=0.499]\n"
     ]
    },
    {
     "name": "stdout",
     "output_type": "stream",
     "text": [
      "Validation Accuracy: 86.254%\n",
      "Average training loss: 0.598\n",
      "Training complete!\n",
      "shopping\n"
     ]
    },
    {
     "name": "stderr",
     "output_type": "stream",
     "text": [
      "Loading Dataset: 56492it [00:00, 1191838.38it/s]\n",
      "Loading Dataset: 6278it [00:00, 888928.52it/s]\n"
     ]
    },
    {
     "name": "stdout",
     "output_type": "stream",
     "text": [
      "training start!!!\n"
     ]
    },
    {
     "name": "stderr",
     "output_type": "stream",
     "text": [
      "Epoch 1/15: 100%|██████████| 1766/1766 [04:17<00:00,  6.85it/s, training_loss=1.815]\n"
     ]
    },
    {
     "name": "stdout",
     "output_type": "stream",
     "text": [
      "Validation Accuracy: 50.542%\n",
      "Average training loss: 2.095\n"
     ]
    },
    {
     "name": "stderr",
     "output_type": "stream",
     "text": [
      "Epoch 2/15: 100%|██████████| 1766/1766 [04:25<00:00,  6.66it/s, training_loss=1.713]\n"
     ]
    },
    {
     "name": "stdout",
     "output_type": "stream",
     "text": [
      "Validation Accuracy: 49.458%\n",
      "Average training loss: 1.732\n"
     ]
    },
    {
     "name": "stderr",
     "output_type": "stream",
     "text": [
      "Epoch 3/15: 100%|██████████| 1766/1766 [04:17<00:00,  6.87it/s, training_loss=1.029]\n"
     ]
    },
    {
     "name": "stdout",
     "output_type": "stream",
     "text": [
      "Validation Accuracy: 84.549%\n",
      "Average training loss: 0.974\n"
     ]
    },
    {
     "name": "stderr",
     "output_type": "stream",
     "text": [
      "Epoch 4/15: 100%|██████████| 1766/1766 [04:23<00:00,  6.70it/s, training_loss=1.196]\n"
     ]
    },
    {
     "name": "stdout",
     "output_type": "stream",
     "text": [
      "Validation Accuracy: 84.087%\n",
      "Average training loss: 0.757\n"
     ]
    },
    {
     "name": "stderr",
     "output_type": "stream",
     "text": [
      "Epoch 5/15: 100%|██████████| 1766/1766 [04:26<00:00,  6.63it/s, training_loss=0.455]\n"
     ]
    },
    {
     "name": "stdout",
     "output_type": "stream",
     "text": [
      "Validation Accuracy: 85.553%\n",
      "Average training loss: 0.706\n"
     ]
    },
    {
     "name": "stderr",
     "output_type": "stream",
     "text": [
      "Epoch 6/15: 100%|██████████| 1766/1766 [04:23<00:00,  6.71it/s, training_loss=0.522]\n"
     ]
    },
    {
     "name": "stdout",
     "output_type": "stream",
     "text": [
      "Validation Accuracy: 85.378%\n",
      "Average training loss: 0.674\n"
     ]
    },
    {
     "name": "stderr",
     "output_type": "stream",
     "text": [
      "Epoch 7/15: 100%|██████████| 1766/1766 [04:23<00:00,  6.69it/s, training_loss=0.564]\n"
     ]
    },
    {
     "name": "stdout",
     "output_type": "stream",
     "text": [
      "Validation Accuracy: 85.250%\n",
      "Average training loss: 0.652\n"
     ]
    },
    {
     "name": "stderr",
     "output_type": "stream",
     "text": [
      "Epoch 8/15: 100%|██████████| 1766/1766 [04:22<00:00,  6.74it/s, training_loss=0.663]\n"
     ]
    },
    {
     "name": "stdout",
     "output_type": "stream",
     "text": [
      "Validation Accuracy: 85.728%\n",
      "Average training loss: 0.634\n"
     ]
    },
    {
     "name": "stderr",
     "output_type": "stream",
     "text": [
      "Epoch 9/15: 100%|██████████| 1766/1766 [04:23<00:00,  6.71it/s, training_loss=1.323]\n"
     ]
    },
    {
     "name": "stdout",
     "output_type": "stream",
     "text": [
      "Validation Accuracy: 85.378%\n",
      "Average training loss: 0.616\n"
     ]
    },
    {
     "name": "stderr",
     "output_type": "stream",
     "text": [
      "Epoch 10/15: 100%|██████████| 1766/1766 [04:18<00:00,  6.82it/s, training_loss=0.501]\n"
     ]
    },
    {
     "name": "stdout",
     "output_type": "stream",
     "text": [
      "Validation Accuracy: 85.744%\n",
      "Average training loss: 0.601\n"
     ]
    },
    {
     "name": "stderr",
     "output_type": "stream",
     "text": [
      "Epoch 11/15: 100%|██████████| 1766/1766 [04:24<00:00,  6.67it/s, training_loss=0.419]\n"
     ]
    },
    {
     "name": "stdout",
     "output_type": "stream",
     "text": [
      "Validation Accuracy: 85.378%\n",
      "Average training loss: 0.588\n"
     ]
    },
    {
     "name": "stderr",
     "output_type": "stream",
     "text": [
      "Epoch 12/15: 100%|██████████| 1766/1766 [04:21<00:00,  6.74it/s, training_loss=0.470]\n"
     ]
    },
    {
     "name": "stdout",
     "output_type": "stream",
     "text": [
      "Validation Accuracy: 85.409%\n",
      "Average training loss: 0.575\n"
     ]
    },
    {
     "name": "stderr",
     "output_type": "stream",
     "text": [
      "Epoch 13/15: 100%|██████████| 1766/1766 [04:21<00:00,  6.75it/s, training_loss=0.430]\n"
     ]
    },
    {
     "name": "stdout",
     "output_type": "stream",
     "text": [
      "Validation Accuracy: 85.983%\n",
      "Average training loss: 0.563\n"
     ]
    },
    {
     "name": "stderr",
     "output_type": "stream",
     "text": [
      "Epoch 14/15: 100%|██████████| 1766/1766 [04:25<00:00,  6.66it/s, training_loss=0.607]\n"
     ]
    },
    {
     "name": "stdout",
     "output_type": "stream",
     "text": [
      "Validation Accuracy: 84.501%\n",
      "Average training loss: 0.553\n"
     ]
    },
    {
     "name": "stderr",
     "output_type": "stream",
     "text": [
      "Epoch 15/15: 100%|██████████| 1766/1766 [04:20<00:00,  6.77it/s, training_loss=0.447]\n"
     ]
    },
    {
     "name": "stdout",
     "output_type": "stream",
     "text": [
      "Validation Accuracy: 85.855%\n",
      "Average training loss: 0.542\n",
      "Training complete!\n"
     ]
    }
   ],
   "source": [
    "import torch\n",
    "import numpy as np\n",
    "import random\n",
    "import os\n",
    "from train import train\n",
    "\n",
    "if __name__ == '__main__':\n",
    "    \"\"\"\n",
    "    以下是需要调整的参数，别的都不需要改，直接运行脚本即可\n",
    "    \"\"\"\n",
    "\n",
    "    description = \"这里可以给本次实验加一些描述\"\n",
    "    EPOCHS = 15\n",
    "\n",
    "    ALPHA_VITKD = []\n",
    "    for i in [0.5,0.4,0.3,0.2,0.1]:\n",
    "        ALPHA_VITKD.append(i)\n",
    "        \n",
    "    GAMA_VITKD = 0.5\n",
    "    BETA_VITKD = 5\n",
    "    \n",
    "    #train_type = cae,mae, pkd_skip , pkd_first, pkd_last\n",
    "    train_type = \"pkd_skip\"\n",
    "\n",
    "    #数据集有以下几种类型：hotel , shopping , waimai , movie\n",
    "    data_set_type = \"shopping\"\n",
    "\n",
    "    #注意力模块的参数\n",
    "    REGRESSOER_DEPT = 3\n",
    "    REGRESSOER_NUM_HEADS = 8\n",
    "    \"\"\"\n",
    "    \"\"\"\n",
    "\n",
    "\n",
    "\n",
    "    BATCH_SIZE = 32\n",
    "    LR = 0.00001\n",
    "    NUM_LABELS = 2\n",
    "\n",
    "    MASK_RATE = 0.5\n",
    "    T_KD_LAYERS = [0, 3, 6, 9, 12]\n",
    "    S_KD_LAYERS = [0, 2, 4, 6, 8]\n",
    "\n",
    "    max_len_dict = {\"hotel\":150,\"waimai\":70,\"shopping\":150,\"movie\":100}\n",
    "    MAX_SEQ_LEN = max_len_dict[data_set_type]\n",
    "\n",
    "    for ALPHA_VITKD_item in ALPHA_VITKD:\n",
    "        seed_value = 2020  # 设定随机数种子\n",
    "        np.random.seed(seed_value)\n",
    "        random.seed(seed_value)\n",
    "        os.environ['PYTHONHASHSEED'] = str(seed_value)  # 为了禁止hash随机化，使得实验可复现。\n",
    "        torch.manual_seed(seed_value)  # 为CPU设置随机种子\n",
    "        torch.cuda.manual_seed(seed_value)  # 为当前GPU设置随机种子（只用一块GPU）\n",
    "        torch.cuda.manual_seed_all(seed_value)  # 为所有GPU设置随机种子（多块GPU）\n",
    "        torch.backends.cudnn.deterministic = True\n",
    "\n",
    "        #训练\n",
    "        train(description = description,\n",
    "        MAX_SEQ_LEN = MAX_SEQ_LEN,\n",
    "        BATCH_SIZE = BATCH_SIZE,\n",
    "        LR = LR,\n",
    "        EPOCHS = EPOCHS,\n",
    "        NUM_LABELS = NUM_LABELS,\n",
    "        # 蒸馏损失相关参数\n",
    "        ALPHA_VITKD = ALPHA_VITKD_item,\n",
    "        BETA_VITKD = BETA_VITKD,\n",
    "        GAMA_VITKD = GAMA_VITKD,\n",
    "        MASK_RATE = MASK_RATE,\n",
    "        REGRESSOER_DEPT = REGRESSOER_DEPT,\n",
    "        REGRESSOER_NUM_HEADS = REGRESSOER_NUM_HEADS,\n",
    "        T_KD_LAYERS = T_KD_LAYERS,\n",
    "        S_KD_LAYERS = S_KD_LAYERS,\n",
    "        train_type = train_type,\n",
    "        data_set_type = data_set_type)\n"
   ]
  },
  {
   "cell_type": "code",
   "execution_count": null,
   "id": "aa7d463e-d329-4bef-a3b9-698ca35e72f5",
   "metadata": {},
   "outputs": [],
   "source": []
  }
 ],
 "metadata": {
  "kernelspec": {
   "display_name": "Python 3 (ipykernel)",
   "language": "python",
   "name": "python3"
  },
  "language_info": {
   "codemirror_mode": {
    "name": "ipython",
    "version": 3
   },
   "file_extension": ".py",
   "mimetype": "text/x-python",
   "name": "python",
   "nbconvert_exporter": "python",
   "pygments_lexer": "ipython3",
   "version": "3.8.10"
  }
 },
 "nbformat": 4,
 "nbformat_minor": 5
}
