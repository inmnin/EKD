{
 "cells": [
  {
   "cell_type": "code",
   "execution_count": null,
   "id": "0e188cf0-5cf0-4193-b888-003bf0604b9d",
   "metadata": {
    "tags": []
   },
   "outputs": [
    {
     "name": "stdout",
     "output_type": "stream",
     "text": [
      "hotel\n"
     ]
    },
    {
     "name": "stderr",
     "output_type": "stream",
     "text": [
      "Loading Dataset: 3667it [00:00, 447485.17it/s]\n",
      "Loading Dataset: 438it [00:00, 382570.84it/s]\n"
     ]
    },
    {
     "name": "stdout",
     "output_type": "stream",
     "text": [
      "training start!!!\n"
     ]
    },
    {
     "name": "stderr",
     "output_type": "stream",
     "text": [
      "Epoch 1/15: 100%|██████████| 115/115 [00:30<00:00,  3.79it/s, training_loss=0.508]\n"
     ]
    },
    {
     "name": "stdout",
     "output_type": "stream",
     "text": [
      "Validation Accuracy: 50.457%\n",
      "Average training loss: 0.551\n"
     ]
    },
    {
     "name": "stderr",
     "output_type": "stream",
     "text": [
      "Epoch 2/15: 100%|██████████| 115/115 [00:29<00:00,  3.88it/s, training_loss=0.690]\n"
     ]
    },
    {
     "name": "stdout",
     "output_type": "stream",
     "text": [
      "Validation Accuracy: 50.457%\n",
      "Average training loss: 0.547\n"
     ]
    },
    {
     "name": "stderr",
     "output_type": "stream",
     "text": [
      "Epoch 3/15: 100%|██████████| 115/115 [00:29<00:00,  3.89it/s, training_loss=0.505]\n"
     ]
    },
    {
     "name": "stdout",
     "output_type": "stream",
     "text": [
      "Validation Accuracy: 50.457%\n",
      "Average training loss: 0.538\n"
     ]
    },
    {
     "name": "stderr",
     "output_type": "stream",
     "text": [
      "Epoch 4/15: 100%|██████████| 115/115 [00:29<00:00,  3.87it/s, training_loss=0.581]\n"
     ]
    },
    {
     "name": "stdout",
     "output_type": "stream",
     "text": [
      "Validation Accuracy: 55.708%\n",
      "Average training loss: 0.492\n"
     ]
    },
    {
     "name": "stderr",
     "output_type": "stream",
     "text": [
      "Epoch 5/15: 100%|██████████| 115/115 [00:30<00:00,  3.77it/s, training_loss=0.234]\n"
     ]
    },
    {
     "name": "stdout",
     "output_type": "stream",
     "text": [
      "Validation Accuracy: 81.050%\n",
      "Average training loss: 0.357\n"
     ]
    },
    {
     "name": "stderr",
     "output_type": "stream",
     "text": [
      "Epoch 6/15: 100%|██████████| 115/115 [00:30<00:00,  3.79it/s, training_loss=0.626]\n"
     ]
    },
    {
     "name": "stdout",
     "output_type": "stream",
     "text": [
      "Validation Accuracy: 72.374%\n",
      "Average training loss: 0.321\n"
     ]
    },
    {
     "name": "stderr",
     "output_type": "stream",
     "text": [
      "Epoch 7/15: 100%|██████████| 115/115 [00:30<00:00,  3.78it/s, training_loss=0.231]\n"
     ]
    },
    {
     "name": "stdout",
     "output_type": "stream",
     "text": [
      "Validation Accuracy: 83.790%\n",
      "Average training loss: 0.288\n"
     ]
    },
    {
     "name": "stderr",
     "output_type": "stream",
     "text": [
      "Epoch 8/15:  92%|█████████▏| 106/115 [00:28<00:02,  3.83it/s, training_loss=0.435]"
     ]
    }
   ],
   "source": [
    "import torch\n",
    "import numpy as np\n",
    "import random\n",
    "import os\n",
    "from train import train\n",
    "from train_minlm import train_minlm\n",
    "\n",
    "if __name__ == '__main__':\n",
    "    \"\"\"\n",
    "    以下是需要调整的参数，别的都不需要改，直接运行脚本即可\n",
    "    \"\"\"\n",
    "\n",
    "    description = \"这里可以给本次实验加一些描述\"\n",
    "    EPOCHS = 15\n",
    "\n",
    "    ALPHA_VITKD = [0.00003]\n",
    "    \n",
    "    BETA_VITKD = 0\n",
    "    \n",
    "    GAMA_VITKD = [0]\n",
    "    \n",
    "    #train_type = cae,mae, pkd_skip , pkd_first, pkd_last,kd,baseline,tiny,minlm\n",
    "    train_type = \"mae\"\n",
    "\n",
    "    #数据集有以下几种类型：hotel , shopping , waimai , movie\n",
    "    data_set_type = \"hotel\"\n",
    "\n",
    "    \n",
    "    MASK_RATE = 0.5\n",
    "    \n",
    "    #注意力模块的参数\n",
    "    REGRESSOER_DEPT = 3\n",
    "    REGRESSOER_NUM_HEADS = 8\n",
    "    \"\"\"\n",
    "    \"\"\"\n",
    "\n",
    "\n",
    "\n",
    "    BATCH_SIZE = 32\n",
    "    LR = 0.00001\n",
    "    NUM_LABELS = 2\n",
    "\n",
    "    T_KD_LAYERS = [0, 3, 6, 9, 12]\n",
    "    S_KD_LAYERS = [0, 2, 4, 6, 8]\n",
    "\n",
    "    max_len_dict = {\"hotel\":150,\"waimai\":70,\"shopping\":150,\"movie\":100,\"data4\":120}\n",
    "    MAX_SEQ_LEN = max_len_dict[data_set_type]\n",
    "    \n",
    "    \n",
    "    \n",
    "\n",
    "\n",
    "\n",
    "    for ALPHA_VITKD_item in ALPHA_VITKD:\n",
    "        for GAMA_VITKD_item in GAMA_VITKD:\n",
    "            seed_value = 2020  # 设定随机数种子\n",
    "            np.random.seed(seed_value)\n",
    "            random.seed(seed_value)\n",
    "            os.environ['PYTHONHASHSEED'] = str(seed_value)  # 为了禁止hash随机化，使得实验可复现。\n",
    "            torch.manual_seed(seed_value)  # 为CPU设置随机种子\n",
    "            torch.cuda.manual_seed(seed_value)  # 为当前GPU设置随机种子（只用一块GPU）\n",
    "            torch.cuda.manual_seed_all(seed_value)  # 为所有GPU设置随机种子（多块GPU）\n",
    "            torch.backends.cudnn.deterministic = True\n",
    "\n",
    "            #训练\n",
    "            if train_type == \"minlm\":\n",
    "                train_minlm(description = description,\n",
    "                    MAX_SEQ_LEN = MAX_SEQ_LEN,\n",
    "                    BATCH_SIZE = BATCH_SIZE,\n",
    "                    LR = LR,\n",
    "                    EPOCHS = EPOCHS,\n",
    "                    NUM_LABELS = NUM_LABELS,\n",
    "                    # 蒸馏损失相关参数\n",
    "                    ALPHA_VITKD = ALPHA_VITKD_item,\n",
    "                    BETA_VITKD = BETA_VITKD,\n",
    "                    GAMA_VITKD = GAMA_VITKD_item,\n",
    "                    MASK_RATE = MASK_RATE,\n",
    "                    REGRESSOER_DEPT = REGRESSOER_DEPT,\n",
    "                    REGRESSOER_NUM_HEADS = REGRESSOER_NUM_HEADS,\n",
    "                    T_KD_LAYERS = T_KD_LAYERS,\n",
    "                    S_KD_LAYERS = S_KD_LAYERS,\n",
    "                    train_type = train_type,\n",
    "                    data_set_type = data_set_type)\n",
    "            else:  \n",
    "                train(description = description,\n",
    "                    MAX_SEQ_LEN = MAX_SEQ_LEN,\n",
    "                    BATCH_SIZE = BATCH_SIZE,\n",
    "                    LR = LR,\n",
    "                    EPOCHS = EPOCHS,\n",
    "                    NUM_LABELS = NUM_LABELS,\n",
    "                    # 蒸馏损失相关参数\n",
    "                    ALPHA_VITKD = ALPHA_VITKD_item,\n",
    "                    BETA_VITKD = BETA_VITKD,\n",
    "                    GAMA_VITKD = GAMA_VITKD_item,\n",
    "                    MASK_RATE = MASK_RATE,\n",
    "                    REGRESSOER_DEPT = REGRESSOER_DEPT,\n",
    "                    REGRESSOER_NUM_HEADS = REGRESSOER_NUM_HEADS,\n",
    "                    T_KD_LAYERS = T_KD_LAYERS,\n",
    "                    S_KD_LAYERS = S_KD_LAYERS,\n",
    "                    train_type = train_type,\n",
    "                    data_set_type = data_set_type)\n"
   ]
  },
  {
   "cell_type": "code",
   "execution_count": null,
   "id": "31f85a70-3d08-4209-8c6c-84d657a6981e",
   "metadata": {},
   "outputs": [],
   "source": []
  },
  {
   "cell_type": "markdown",
   "id": "0d76434e-2f54-4176-bcb5-74df932265d0",
   "metadata": {},
   "source": []
  },
  {
   "cell_type": "code",
   "execution_count": null,
   "id": "e26770fc-93eb-4f4a-878c-5342c384e7a7",
   "metadata": {},
   "outputs": [],
   "source": []
  }
 ],
 "metadata": {
  "kernelspec": {
   "display_name": "Python 3 (ipykernel)",
   "language": "python",
   "name": "python3"
  },
  "language_info": {
   "codemirror_mode": {
    "name": "ipython",
    "version": 3
   },
   "file_extension": ".py",
   "mimetype": "text/x-python",
   "name": "python",
   "nbconvert_exporter": "python",
   "pygments_lexer": "ipython3",
   "version": "3.8.10"
  }
 },
 "nbformat": 4,
 "nbformat_minor": 5
}
